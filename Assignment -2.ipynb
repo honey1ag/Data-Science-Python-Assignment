{
 "cells": [
  {
   "cell_type": "markdown",
   "metadata": {},
   "source": [
    "# Assignment - 2 Python - Data Structures"
   ]
  },
  {
   "cell_type": "code",
   "execution_count": 1,
   "metadata": {},
   "outputs": [],
   "source": [
    "#Q1. How do you comment code in Python? What are the different types of comments?"
   ]
  },
  {
   "cell_type": "code",
   "execution_count": 2,
   "metadata": {},
   "outputs": [],
   "source": [
    "# #ANSWER\n",
    "\n",
    "# There are two types of comments in python:\n",
    "# One is single line comment which is performed by using \"#\" in the starting of the comment.\n",
    "# example - \n",
    "# #this is a comment\n",
    "\n",
    "# and the other one is multi-line comment which is performed by using triple courts (\"\"\" \"\"\") \n",
    "\n",
    "# #example - \n",
    "# \"\"\"this is a comment\n",
    "# using to show example\n",
    "# in the assignment\"\"\""
   ]
  },
  {
   "cell_type": "code",
   "execution_count": 3,
   "metadata": {},
   "outputs": [],
   "source": [
    "#Q2. What are variables in Python? How do you declare and assign values to variables?"
   ]
  },
  {
   "cell_type": "code",
   "execution_count": 4,
   "metadata": {},
   "outputs": [
    {
     "name": "stdout",
     "output_type": "stream",
     "text": [
      "honey\n",
      "21\n"
     ]
    }
   ],
   "source": [
    "\"\"\" ANSWER -\n",
    "In python variables are used to store and manipulate data.\n",
    "A variable is essentially a named location in memory that\n",
    "holds a value. We can assign differtent types of values,\n",
    "such as numbers, strings, or objects to vriables.\n",
    "\n",
    "To assign a value to a variable we need to use assignment\n",
    "operator(=).\n",
    "\"\"\"\n",
    "#Example -\n",
    "name = \"honey\"\n",
    "age = 21\n",
    "#Here we have made 2 variables name and age and we have assign the variables value as honey and 21 respectively\n",
    "#here we can use print command to print our variables.\n",
    "#example -\n",
    "print(name)\n",
    "print(age)"
   ]
  },
  {
   "cell_type": "code",
   "execution_count": 5,
   "metadata": {},
   "outputs": [],
   "source": [
    "#Q3. How do you convert one data type to another in Python?"
   ]
  },
  {
   "cell_type": "code",
   "execution_count": 6,
   "metadata": {},
   "outputs": [
    {
     "name": "stdout",
     "output_type": "stream",
     "text": [
      "10\n",
      "<class 'int'>\n",
      "10.0\n",
      "<class 'float'>\n"
     ]
    }
   ],
   "source": [
    "\"\"\" ANSWER -\n",
    "In python we can convert one data type to another by using type conversion.\n",
    "example - \n",
    "\n",
    "1. int() - This function convert a value into integer data type. \"\"\"\n",
    "#EXAMPLE -\n",
    "\n",
    "string_number = \"10\"\n",
    "number = int(string_number)\n",
    "print(number)\n",
    "print(type(number))\n",
    "#Here we have converted the string number into an integer number.\n",
    "\n",
    "#2.float() - This function will convert the value into float data type.\n",
    "#EXAMPLE - \n",
    "\n",
    "integer = 10\n",
    "float_no = float(integer)\n",
    "print(float_no)\n",
    "print(type(float_no))\n",
    "#Here we have converted an integer no to a float number\n",
    "\n",
    "\n",
    "# same way we can do type conversion with list - list() , string - str() ,\n",
    "# tuple - tuple() , set - set() , etc etc.\n",
    "\n",
    "\n"
   ]
  },
  {
   "cell_type": "code",
   "execution_count": 7,
   "metadata": {},
   "outputs": [],
   "source": [
    "#Q4. How do you write and execute a Python script from the command line?"
   ]
  },
  {
   "cell_type": "code",
   "execution_count": 8,
   "metadata": {},
   "outputs": [],
   "source": [
    "#  ANSWER - To write and execute a Python script from the command line we need to follow some steps -\n",
    "# 1. first we need to open our code editor like Pycham, VScode, jupyter notebook ore any other editor.\n",
    "# 2. Write the python code in the editor and save the file with 'name.py' NOTE - we have to use '.py' in the last of the name by which you are saving\n",
    "# 3. once the file is saved to the system open the commands prompt or terminal in your operating system.\n",
    "# 4. Once the command prompt opens navigate to the directory where you have saved your python file using 'cd' command\n",
    "#    example -  dc documents\n",
    "# 5. Once you are in the correct directory, execute your python programe using your file name.\n",
    "#    example - name.py\n",
    "   \n",
    "# NOTE- AFTER DOING THIS YOUR PROGRAM WILL RUN\n",
    "\n",
    "# THIS WAS THE STEPS BY WHICH YOU CAN WRITE AND EXECUTE PYTHON SCRIPT FROM THE COMMAND LINE "
   ]
  },
  {
   "cell_type": "code",
   "execution_count": 9,
   "metadata": {},
   "outputs": [],
   "source": [
    "#Q5. Given a list my_list = [1, 2, 3, 4, 5], write the code to slice the list and obtain the sub-list [2, 3]."
   ]
  },
  {
   "cell_type": "code",
   "execution_count": 10,
   "metadata": {},
   "outputs": [
    {
     "name": "stdout",
     "output_type": "stream",
     "text": [
      "[2, 3]\n"
     ]
    }
   ],
   "source": [
    "#ANSWER\n",
    "my_list = [1,2,3,4,5]\n",
    "sub_list = my_list[1:3]\n",
    "print(sub_list)"
   ]
  },
  {
   "cell_type": "code",
   "execution_count": 11,
   "metadata": {},
   "outputs": [],
   "source": [
    "#Q6. What is a complex number in mathematics, and how is it represented in Python?"
   ]
  },
  {
   "cell_type": "code",
   "execution_count": 12,
   "metadata": {},
   "outputs": [
    {
     "name": "stdout",
     "output_type": "stream",
     "text": [
      "<class 'complex'>\n"
     ]
    }
   ],
   "source": [
    "\"\"\"ANSWER - \n",
    "In mathamatics, a complex number is a number that can be expressed in a form of \"a+bi\", where a and b are real numbers, \n",
    "and i is the imaginary unit defined as the square-root of -1. the real part of complex number is denoted by 'a'\n",
    "and the imaginary part is denoted by 'b'.\n",
    "Complex numbers are used to represent quantities that involve both real and imaginary components.\n",
    "\n",
    "In python, complex numbers are supported as a built-in data type. we can represent complex number in following syntax:\n",
    " z = a +bj\n",
    "\"\"\"\n",
    "#example -\n",
    "z = 3 + 2j \n",
    "print(type(z))\n",
    "#here we have created a complex number with real part of 3 and imaginary part of 2 "
   ]
  },
  {
   "cell_type": "code",
   "execution_count": 13,
   "metadata": {},
   "outputs": [],
   "source": [
    "#Q7. What is the correct way to declare a variable named age and assign the value 25 to it?"
   ]
  },
  {
   "cell_type": "code",
   "execution_count": 14,
   "metadata": {},
   "outputs": [],
   "source": [
    "# ANSWER - The correct way to declare a variable named age and assign the value of 25 to it is -\n",
    "age = 25"
   ]
  },
  {
   "cell_type": "code",
   "execution_count": 15,
   "metadata": {},
   "outputs": [],
   "source": [
    "#Q8. Declare a variable named price and assign the value 9.99 to it. What data type does this variable belong to?"
   ]
  },
  {
   "cell_type": "code",
   "execution_count": 16,
   "metadata": {},
   "outputs": [
    {
     "name": "stdout",
     "output_type": "stream",
     "text": [
      "<class 'float'>\n"
     ]
    }
   ],
   "source": [
    "#ANSWER -\n",
    "price = 9.99\n",
    "print(type(price))\n",
    "#this veriable 'price' belongs to the float type data."
   ]
  },
  {
   "cell_type": "code",
   "execution_count": 17,
   "metadata": {},
   "outputs": [],
   "source": [
    "#Q9. Create a variable named name and assign your full name to it as a string. How would you print the value of this variable?\n"
   ]
  },
  {
   "cell_type": "code",
   "execution_count": 18,
   "metadata": {},
   "outputs": [
    {
     "name": "stdout",
     "output_type": "stream",
     "text": [
      "HONEY AGRAWAL\n"
     ]
    }
   ],
   "source": [
    "#ANSWER - \n",
    "#We will print the value of the variable using print() function.\n",
    "name = \"HONEY AGRAWAL\"\n",
    "print(name)"
   ]
  },
  {
   "cell_type": "code",
   "execution_count": 19,
   "metadata": {},
   "outputs": [],
   "source": [
    "#Q10. Given the string \"Hello, World!\", extract the substring \"World\"."
   ]
  },
  {
   "cell_type": "code",
   "execution_count": 20,
   "metadata": {},
   "outputs": [
    {
     "data": {
      "text/plain": [
       "'World'"
      ]
     },
     "execution_count": 20,
     "metadata": {},
     "output_type": "execute_result"
    }
   ],
   "source": [
    "#ANSWER -\n",
    "string = \"Hello, World!\"\n",
    "string[7:12]"
   ]
  },
  {
   "cell_type": "code",
   "execution_count": 21,
   "metadata": {},
   "outputs": [],
   "source": [
    "#Q11. Create a variable named \"is_student\" and assign it a boolean value indicating whether you are currently a student or not.\n"
   ]
  },
  {
   "cell_type": "code",
   "execution_count": 22,
   "metadata": {},
   "outputs": [],
   "source": [
    "#ANSWER -\n",
    "is_student = True\n",
    "#In this case, I have created a variable named 'is_student' and assigned the boolean value 'True' to indicate that currently i am a student."
   ]
  },
  {
   "cell_type": "code",
   "execution_count": null,
   "metadata": {},
   "outputs": [],
   "source": []
  }
 ],
 "metadata": {
  "kernelspec": {
   "display_name": "Python 3",
   "language": "python",
   "name": "python3"
  },
  "language_info": {
   "codemirror_mode": {
    "name": "ipython",
    "version": 3
   },
   "file_extension": ".py",
   "mimetype": "text/x-python",
   "name": "python",
   "nbconvert_exporter": "python",
   "pygments_lexer": "ipython3",
   "version": "3.7.3"
  }
 },
 "nbformat": 4,
 "nbformat_minor": 2
}

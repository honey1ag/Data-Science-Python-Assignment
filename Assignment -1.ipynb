{
 "cells": [
  {
   "cell_type": "markdown",
   "metadata": {},
   "source": [
    "#                                     Assignment - 1\n"
   ]
  },
  {
   "cell_type": "markdown",
   "metadata": {},
   "source": [
    "Q1. creat one variable containing following types of data:\n",
    "\n",
    "(i) string\n",
    "(ii) list\n",
    "(iii) float\n",
    "(iv) tuple"
   ]
  },
  {
   "cell_type": "code",
   "execution_count": 1,
   "metadata": {},
   "outputs": [
    {
     "name": "stdout",
     "output_type": "stream",
     "text": [
      "<class 'str'>\n",
      "<class 'list'>\n",
      "<class 'float'>\n",
      "<class 'tuple'>\n"
     ]
    }
   ],
   "source": [
    "#String\n",
    "\n",
    "string = \"assignment\"\n",
    "print(type(string))\n",
    "\n",
    "#List\n",
    "\n",
    "my_list = [1,2,3,4,5]\n",
    "print(type(my_list))\n",
    "\n",
    "#Float\n",
    "\n",
    "my_float = 55.5\n",
    "print(type(my_float))\n",
    "\n",
    "#Tuple\n",
    "\n",
    "my_tuple = True, False\n",
    "print(type(my_tuple))"
   ]
  },
  {
   "cell_type": "markdown",
   "metadata": {},
   "source": [
    "Q2. Given are some following variables containing data:\n",
    "\n",
    "(i) var1 = \"\"\n",
    "(ii) var2 = '[ DS , ML , Python]'\n",
    "(iii) var3 = [ 'DS' , 'ML' , 'Python' ]\n",
    "(iv) var4 = 1.\n",
    "\n",
    "What will be the data type of the above given variable."
   ]
  },
  {
   "cell_type": "code",
   "execution_count": 2,
   "metadata": {},
   "outputs": [
    {
     "name": "stdout",
     "output_type": "stream",
     "text": [
      "<class 'str'>\n",
      "<class 'str'>\n",
      "<class 'list'>\n",
      "<class 'float'>\n"
     ]
    }
   ],
   "source": [
    "#The data types of the following variables are:\n",
    "\n",
    "#var1 = \"\"    - string\n",
    "\n",
    "var1 = \"\"\n",
    "print(type(var1))\n",
    "\n",
    "#var2 = ‘[ DS , ML , Python]’   - string\n",
    "\n",
    "var2 = '[ DS , ML , Python]'\n",
    "print(type(var2))\n",
    "\n",
    "#var3 = [ 'DS' , 'ML' , 'Python' ]   - list\n",
    "\n",
    "var3 = [ 'DS' , 'ML' , 'Python' ]\n",
    "print(type(var3))\n",
    "\n",
    "#var4 = 1.   -float\n",
    "\n",
    "var4 = 1.\n",
    "print(type(var4))\n",
    "\n"
   ]
  },
  {
   "cell_type": "markdown",
   "metadata": {},
   "source": [
    "Q3. Explain the use of the following operators using an example:\n",
    "(i) /\n",
    "(ii) %\n",
    "(iii) //\n",
    "(iv) **\n"
   ]
  },
  {
   "cell_type": "code",
   "execution_count": 3,
   "metadata": {},
   "outputs": [
    {
     "name": "stdout",
     "output_type": "stream",
     "text": [
      "5.0\n"
     ]
    }
   ],
   "source": [
    "# (i) '/' - this is called division operator this is use to dibide two numbers\n",
    "#example -\n",
    "x = 10\n",
    "y = 2\n",
    "result = x/y\n",
    "print(result)"
   ]
  },
  {
   "cell_type": "code",
   "execution_count": 4,
   "metadata": {},
   "outputs": [
    {
     "name": "stdout",
     "output_type": "stream",
     "text": [
      "1\n"
     ]
    }
   ],
   "source": [
    "#(ii) '%' - this operator is used to find the reminder of the division of two numbers\n",
    "#example - \n",
    "x = 10\n",
    "y = 3\n",
    "result = x%y\n",
    "print(result)\n",
    "\n",
    "#here the result will be 1 which is our reminder"
   ]
  },
  {
   "cell_type": "code",
   "execution_count": 5,
   "metadata": {},
   "outputs": [
    {
     "name": "stdout",
     "output_type": "stream",
     "text": [
      "3\n"
     ]
    }
   ],
   "source": [
    "#(iii) '//' - this operator performs division between two numbers and return quotient in whole number\n",
    "#example -\n",
    "x = 10\n",
    "y = 3\n",
    "result = x//y\n",
    "print(result)\n",
    "\n",
    "#here we will get the result of 3 but if we have done normal division here then we would have got the result 3.3333 "
   ]
  },
  {
   "cell_type": "code",
   "execution_count": 6,
   "metadata": {},
   "outputs": [
    {
     "name": "stdout",
     "output_type": "stream",
     "text": [
      "8\n"
     ]
    }
   ],
   "source": [
    "#(iv) '**' - this is called exponential operator it is used to raise a number to the power of another number\n",
    "#example -\n",
    "x = 2\n",
    "y = 3\n",
    "result = x**y\n",
    "print(result)\n",
    "\n",
    "#here it has raise 2 to the power of 3 which is equal to 8\n"
   ]
  },
  {
   "cell_type": "markdown",
   "metadata": {},
   "source": [
    "Q4. Create a list of length 10 of your choice containing multiple types of data. Using for loop print the\n",
    "element and its data type."
   ]
  },
  {
   "cell_type": "code",
   "execution_count": 7,
   "metadata": {},
   "outputs": [
    {
     "name": "stdout",
     "output_type": "stream",
     "text": [
      "1 <class 'int'>\n",
      "2 <class 'int'>\n",
      "3 <class 'int'>\n",
      "honey <class 'str'>\n",
      "22.2 <class 'float'>\n",
      "True <class 'bool'>\n",
      "[123, 1223] <class 'list'>\n",
      "sudh <class 'str'>\n",
      "krish <class 'str'>\n",
      "spider <class 'str'>\n"
     ]
    }
   ],
   "source": [
    "list = [1,2,3,\"honey\", 22.2, True,[123,1223],\"sudh\",\"krish\", \"spider\"]\n",
    "for item in list:\n",
    "    print(item, type(item))"
   ]
  },
  {
   "cell_type": "markdown",
   "metadata": {},
   "source": [
    "Q5. Using a while loop, verify if the number A is purely divisible by number B and if so then how many\n",
    "times it can be divisible."
   ]
  },
  {
   "cell_type": "code",
   "execution_count": 8,
   "metadata": {},
   "outputs": [
    {
     "name": "stdout",
     "output_type": "stream",
     "text": [
      "number of times a can be divided by b :  2\n"
     ]
    }
   ],
   "source": [
    "a = 100\n",
    "b = 5\n",
    "divisions = 0\n",
    "while a % b == 0:\n",
    "    a= a // b\n",
    "    divisions +=1\n",
    "print(\"number of times a can be divided by b : \", divisions)"
   ]
  },
  {
   "cell_type": "markdown",
   "metadata": {},
   "source": [
    "Q6. Create a list containing 25 int type data. Using for loop and if-else condition print if the element is\n",
    "divisible by 3 or not."
   ]
  },
  {
   "cell_type": "code",
   "execution_count": 9,
   "metadata": {},
   "outputs": [
    {
     "name": "stdout",
     "output_type": "stream",
     "text": [
      "3  is divisible by 3\n",
      "6  is divisible by 3\n",
      "9  is divisible by 3\n",
      "12  is divisible by 3\n",
      "15  is divisible by 3\n",
      "8  is not divisible by 3\n",
      "18  is divisible by 3\n",
      "24  is divisible by 3\n",
      "20  is not divisible by 3\n",
      "19  is not divisible by 3\n",
      "11  is not divisible by 3\n",
      "60  is divisible by 3\n",
      "58  is not divisible by 3\n",
      "99  is divisible by 3\n",
      "68  is not divisible by 3\n",
      "52  is not divisible by 3\n",
      "67  is not divisible by 3\n",
      "96  is divisible by 3\n",
      "17  is not divisible by 3\n",
      "88  is not divisible by 3\n",
      "65  is not divisible by 3\n",
      "92  is not divisible by 3\n",
      "77  is not divisible by 3\n",
      "88  is not divisible by 3\n",
      "39  is divisible by 3\n"
     ]
    }
   ],
   "source": [
    "my_list = [3,6,9,12,15,8,18,24,20,19,11,60,58,99,68,52,67,96,17,88,65,92,77,88,39]\n",
    "for i in my_list:\n",
    "    if i%3 ==0:\n",
    "        print(i,\" is divisible by 3\")\n",
    "    else:\n",
    "        print(i,\" is not divisible by 3\")"
   ]
  },
  {
   "cell_type": "markdown",
   "metadata": {},
   "source": [
    "Q7. What do you understand about mutable and immutable data types? Give examples for both showing\n",
    "this property."
   ]
  },
  {
   "cell_type": "code",
   "execution_count": 10,
   "metadata": {},
   "outputs": [
    {
     "name": "stdout",
     "output_type": "stream",
     "text": [
      "[2, 300, 4, 'sudh', True, 34]\n"
     ]
    }
   ],
   "source": [
    "#Mutable data is that type of data whose index value can be change.\n",
    "#example - list\n",
    "l = [2,3, 4,\"sudh\", True, 34]\n",
    "#suppose we want to change our 1st index value 3 to 300\n",
    "#so what we will do is:\n",
    "l[1]=300\n",
    "#by doing this our value will change from 3 to 300 this is called mutable data whose value can be changed\n",
    "print(l)"
   ]
  },
  {
   "cell_type": "code",
   "execution_count": 11,
   "metadata": {},
   "outputs": [
    {
     "ename": "TypeError",
     "evalue": "'str' object does not support item assignment",
     "output_type": "error",
     "traceback": [
      "\u001b[1;31m---------------------------------------------------------------------------\u001b[0m",
      "\u001b[1;31mTypeError\u001b[0m                                 Traceback (most recent call last)",
      "\u001b[1;32m<ipython-input-11-9309b39e62a9>\u001b[0m in \u001b[0;36m<module>\u001b[1;34m\u001b[0m\n\u001b[0;32m      4\u001b[0m \u001b[1;31m#when we try to change its index value it will note change and it will give an error\u001b[0m\u001b[1;33m\u001b[0m\u001b[1;33m\u001b[0m\u001b[1;33m\u001b[0m\u001b[0m\n\u001b[0;32m      5\u001b[0m \u001b[1;31m#lets change its 1st index value from u to z:\u001b[0m\u001b[1;33m\u001b[0m\u001b[1;33m\u001b[0m\u001b[1;33m\u001b[0m\u001b[0m\n\u001b[1;32m----> 6\u001b[1;33m \u001b[0ms\u001b[0m\u001b[1;33m[\u001b[0m\u001b[1;36m1\u001b[0m\u001b[1;33m]\u001b[0m\u001b[1;33m=\u001b[0m\u001b[1;34m\"z\"\u001b[0m\u001b[1;33m\u001b[0m\u001b[1;33m\u001b[0m\u001b[0m\n\u001b[0m\u001b[0;32m      7\u001b[0m \u001b[1;31m#it gave an error\u001b[0m\u001b[1;33m\u001b[0m\u001b[1;33m\u001b[0m\u001b[1;33m\u001b[0m\u001b[0m\n",
      "\u001b[1;31mTypeError\u001b[0m: 'str' object does not support item assignment"
     ]
    }
   ],
   "source": [
    "#Immutable data is that type of data whose index value cannot be change.\n",
    "#example - string\n",
    "s = \"sudh\"\n",
    "#when we try to change its index value it will note change and it will give an error\n",
    "#lets change its 1st index value from u to z:\n",
    "s[1]=\"z\"\n",
    "#it gave an error "
   ]
  },
  {
   "cell_type": "code",
   "execution_count": null,
   "metadata": {},
   "outputs": [],
   "source": []
  }
 ],
 "metadata": {
  "kernelspec": {
   "display_name": "Python 3",
   "language": "python",
   "name": "python3"
  },
  "language_info": {
   "codemirror_mode": {
    "name": "ipython",
    "version": 3
   },
   "file_extension": ".py",
   "mimetype": "text/x-python",
   "name": "python",
   "nbconvert_exporter": "python",
   "pygments_lexer": "ipython3",
   "version": "3.7.3"
  }
 },
 "nbformat": 4,
 "nbformat_minor": 2
}
